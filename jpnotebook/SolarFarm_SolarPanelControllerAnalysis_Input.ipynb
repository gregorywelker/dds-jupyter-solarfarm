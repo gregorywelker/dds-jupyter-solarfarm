{
 "cells": [
  {
   "cell_type": "code",
   "execution_count": 73,
   "id": "6374d34b",
   "metadata": {
    "tags": [
     "parameters"
    ]
   },
   "outputs": [],
   "source": [
    "pathToFile = ''\n",
    "pathToOutput = ''\n"
   ]
  },
  {
   "cell_type": "code",
   "execution_count": 74,
   "id": "1a174fa4",
   "metadata": {},
   "outputs": [],
   "source": [
    "import pandas as pd\n",
    "import numpy as np\n",
    "import plotly\n",
    "import plotly.express as px"
   ]
  },
  {
   "cell_type": "code",
   "execution_count": 75,
   "id": "7e3160a5",
   "metadata": {},
   "outputs": [
    {
     "data": {
      "text/plain": [
       "'solarPanelControllerAnalysis.html'"
      ]
     },
     "execution_count": 75,
     "metadata": {},
     "output_type": "execute_result"
    }
   ],
   "source": [
    "df = pd.read_csv(pathToFile, sep=',', decimal='.')\n",
    "df['timestamp'] = pd.to_datetime(df['timestamp'], format='%m/%d/%Y:%H:%M:%S')\n",
    "fig = px.line(\n",
    "    df.sort_values(by=['timestamp'], ascending=[True]),\n",
    "    x='timestamp',\n",
    "    y='energy',\n",
    "    color='id',\n",
    "    title=\"Solar Panel Data Analysis\", \n",
    "    labels={\n",
    "        \"timestamp\": \"Datetime\",\n",
    "        \"energy\": \"Energy Generation (Wh)\",\n",
    "        \"id\":\"Solar Panel ID\"\n",
    "    },)\n",
    "plotly.offline.plot(fig, filename=pathToOutput+'solarPanelControllerAnalysis.html')"
   ]
  },
  {
   "cell_type": "code",
   "execution_count": null,
   "id": "64b0c1be",
   "metadata": {},
   "outputs": [],
   "source": []
  }
 ],
 "metadata": {
  "celltoolbar": "Tags",
  "kernelspec": {
   "display_name": "Python 3",
   "language": "python",
   "name": "python3"
  },
  "language_info": {
   "codemirror_mode": {
    "name": "ipython",
    "version": 3
   },
   "file_extension": ".py",
   "mimetype": "text/x-python",
   "name": "python",
   "nbconvert_exporter": "python",
   "pygments_lexer": "ipython3",
   "version": "3.8.8"
  }
 },
 "nbformat": 4,
 "nbformat_minor": 5
}
